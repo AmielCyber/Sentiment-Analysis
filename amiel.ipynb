{
 "cells": [
  {
   "cell_type": "code",
   "execution_count": null,
   "metadata": {
    "collapsed": true
   },
   "outputs": [],
   "source": [
    "from sklearn import load_files\n",
    "import csv\n",
    "\n",
    "def sentiment():\n",
    "    # take list of filepaths to get data\n",
    "    filepaths = {'amazon': 'amazon_cells_labelled.txt',\n",
    "                 'yelp': 'yelp_labelled.txt',\n",
    "                 'imdb': 'imdb_labelled.txt'}\n",
    "\n",
    "    # populate dataframes with data, separating sentences from the scores\n",
    "    input_list = []\n",
    "    output_list = []\n",
    "    for source, path in filepaths.items():\n",
    "        with open(path, 'r') as file:\n",
    "            line = csv.reader(file, delimiter='\\t')\n",
    "            for row in line:\n",
    "                input_list.append(row[0])\n",
    "                output_list.append(int(row[1]))\n",
    "    print(input_list)\n",
    "    print(output_list)\n",
    "\n",
    "    print('end sentiment')\n",
    "\n",
    "sentiment()\n"
   ]
  }
 ],
 "metadata": {
  "kernelspec": {
   "display_name": "Python 3",
   "language": "python",
   "name": "python3"
  },
  "language_info": {
   "codemirror_mode": {
    "name": "ipython",
    "version": 3
   },
   "file_extension": ".py",
   "mimetype": "text/x-python",
   "name": "python",
   "nbconvert_exporter": "python",
   "pygments_lexer": "ipython3",
   "version": "3.8.3"
  }
 },
 "nbformat": 4,
 "nbformat_minor": 1
}